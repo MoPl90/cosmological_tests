{
 "cells": [
  {
   "cell_type": "code",
   "execution_count": null,
   "metadata": {},
   "outputs": [],
   "source": [
    "%matplotlib notebook\n",
    "\n",
    "import numpy as np\n",
    "import pylab as plt\n",
    "plt.rc('text', usetex=True)\n",
    "plt.rc('font', size=16,family='serif')\n",
    "import matplotlib.gridspec as gridspec\n",
    "from emcee import EnsembleSampler\n",
    "from emcee.backends import HDFBackend\n",
    "from multiprocessing import cpu_count, Pool\n",
    "from corner import corner\n",
    "from Cosmology import *\n",
    "import sys\n",
    "\n",
    "#Cosmological parameters\n",
    "Omega_m = 0.3089\n",
    "Omega_c = 0.6911"
   ]
  },
  {
   "cell_type": "markdown",
   "metadata": {},
   "source": [
    "# Import data"
   ]
  },
  {
   "cell_type": "markdown",
   "metadata": {},
   "source": [
    "## Supernova data"
   ]
  },
  {
   "cell_type": "code",
   "execution_count": null,
   "metadata": {},
   "outputs": [],
   "source": [
    "dataSN = np.loadtxt('data/jla_lcparams.txt', usecols=(2,4,6,8,10))\n",
    "errSN = np.loadtxt('data/jla_lcparams.txt', usecols=(5,7,9))[np.argsort(dataSN.T[0])]\n",
    "dataSN = dataSN[np.argsort(dataSN.T[0])]\n",
    "\n",
    "#best fit values found in JLA analysis arXiv:1401.4064\n",
    "a = 0.14\n",
    "b = 3.14\n",
    "MB = -19.04\n",
    "delta_Mhost = -.06"
   ]
  },
  {
   "cell_type": "code",
   "execution_count": null,
   "metadata": {},
   "outputs": [],
   "source": [
    "SNdata = Supernova_data(dataSN, errSN, np.array([a,b,MB, 0]))"
   ]
  },
  {
   "cell_type": "markdown",
   "metadata": {},
   "source": [
    "## Quasar data"
   ]
  },
  {
   "cell_type": "code",
   "execution_count": null,
   "metadata": {},
   "outputs": [],
   "source": [
    "dataQ = np.loadtxt('data/quasar_data_RL.txt', usecols=(0,1,2,3,4))\n",
    "errQ = np.loadtxt('data/quasar_data_RL.txt', usecols=5)[np.argsort(dataQ.T[0])]\n",
    "dataQ = dataQ[np.argsort(dataQ.T[0])]\n",
    "\n",
    "#best fit values found in Risaliti & Lusso, Nature Astronomy, 2018\n",
    "beta_prime, s = 7.4, 1.5"
   ]
  },
  {
   "cell_type": "code",
   "execution_count": null,
   "metadata": {},
   "outputs": [],
   "source": [
    "Qdata = Quasar_data(dataQ, errQ, np.array([beta_prime, s]))"
   ]
  },
  {
   "cell_type": "markdown",
   "metadata": {},
   "source": [
    "# Set up and run the MCMC sampler [arXiv:1202.3665]"
   ]
  },
  {
   "cell_type": "markdown",
   "metadata": {},
   "source": [
    "## Define the likelihood and priors"
   ]
  },
  {
   "cell_type": "code",
   "execution_count": null,
   "metadata": {},
   "outputs": [],
   "source": [
    "def lnlike(theta, SNdata, Qdata):\n",
    "    if len(theta) == 9:\n",
    "        Omegam, Omegac, w, a, b, MB, delta_Mhost, beta_prime, s = theta\n",
    "        cosmo = cosmology(Omegam, Omegac, w)\n",
    "    elif len(theta) == 8:\n",
    "        Omegam, Omegac, a, b, MB, delta_Mhost, beta_prime, s = theta\n",
    "        cosmo = cosmology(Omegam, Omegac)\n",
    "    \n",
    "    SNdata.set_param(np.array([a,b,MB, delta_Mhost]))\n",
    "    Qdata.set_param(np.array([beta_prime, s]))\n",
    "    \n",
    "    log_prob = cosmo.log_likelihood(SNdata.distance_modulus(), SNdata.delta_distance_modulus())\n",
    "    log_prob += cosmo.log_likelihood(Qdata.distance_modulus(), Qdata.delta_distance_modulus())\n",
    "    \n",
    "    if np.isnan(log_prob):\n",
    "        return -np.inf\n",
    "    \n",
    "    \n",
    "    return log_prob\n",
    "\n",
    "\n",
    "def lnprior(theta):\n",
    "    #flat priors:\n",
    "    if len(theta) == 9:\n",
    "        Omegam, Omegac, w, a, b, MB, delta_Mhost, beta_prime, s = theta\n",
    "        if 0 < Omegam < 1.0 and 0 < Omegac < 1.5 and -3 < w < -1/3. and -5 <= a < 5 and -10 < b < 10 and -25 < MB < 0 and -0.5 < delta_Mhost < 0.5 and 0 < beta_prime < 10 and 0 < s <= 3:\n",
    "            return 0.0\n",
    "        else:\n",
    "            return -np.inf\n",
    "    elif len(theta) == 8:\n",
    "        Omegam, Omegac, a, b, MB, delta_Mhost, beta_prime, s = theta\n",
    "        if 0 < Omegam < 1.0 and 0 < Omegac < 1.5 and -3 < w < -1/3. and -5 <= a < 5 and -10 < b < 10 and -25 < MB < 0 and -0.5 < delta_Mhost < 0.5 and 0 < beta_prime < 10 and 0 < s <= 3:\n",
    "            return 0.0\n",
    "        else:\n",
    "            return -np.inf\n",
    "    else:\n",
    "        raise TypeError('Position vector has wrong format!')\n",
    "\n",
    "def lnprob(theta, SNdata, Qdata):\n",
    "    lp = lnprior(theta)\n",
    "    if not np.isfinite(lp):\n",
    "        return -np.inf\n",
    "    return lp + lnlike(theta, SNdata, Qdata)"
   ]
  },
  {
   "cell_type": "markdown",
   "metadata": {},
   "source": [
    "## set up and run the MC sampler locally...\n",
    "## (uncomment this cell if you want to load a preexisting chain)"
   ]
  },
  {
   "cell_type": "code",
   "execution_count": null,
   "metadata": {},
   "outputs": [],
   "source": [
    "ndim, nwalkers, nsteps = 9, 20, 100\n",
    "pos0 = [np.array([Omega_m, Omega_c, -1, a, b, MB, 0, beta_prime, s]) + 1e-1*np.random.randn(ndim) for i in range(nwalkers)] #, .2, 2, .1, -20]])\n",
    "\n",
    "pool = Pool(cpu_count())\n",
    "write = HDFBackend('results/wLCDM_' + str(nwalkers) + 'x' + str(nsteps) + '.h5')\n",
    "sampler = EnsembleSampler(nwalkers, ndim, lnprob, args=(SNdata, Qdata), pool=pool)#, backend=write)\n",
    "\n",
    "\n",
    "tau, accepted = [], []\n",
    "\n",
    "# # Now we'll sample for up to nsteps steps\n",
    "# for i, sample in enumerate(sampler.sample(pos0, iterations=nsteps, progress=True)):\n",
    "#     # Only check convergence every 10 steps\n",
    "#     if sampler.iteration % 10:\n",
    "#         continue\n",
    "\n",
    "#     # Compute the autocorrelation time so far\n",
    "#     # Using tol=0 means that we'll always get an estimate even\n",
    "#     # if it isn't trustworthy\n",
    "#     tau.append(np.mean(sampler.get_autocorr_time(tol=0)))\n",
    "#     accepted.append(np.mean(sampler.acceptance_fraction))\n",
    "# pool.close()"
   ]
  },
  {
   "cell_type": "markdown",
   "metadata": {},
   "source": [
    "# Load $\\Lambda$LCDM data"
   ]
  },
  {
   "cell_type": "code",
   "execution_count": null,
   "metadata": {},
   "outputs": [],
   "source": [
    "LCDM_sampler = HDFBackend('results/LCDM_500x1000.h5', read_only=True)\n",
    "\n",
    "nsteps, nwalkers, ndim = LCDM_sampler.get_chain().shape\n",
    "labs = [r'$\\Omega_m$', r'$\\Omega_\\Lambda$', r'$\\alpha$', r'$\\beta$', r'$M_B$', r'$\\Delta M_B$', r'$\\beta^\\prime$', r'$\\delta$']"
   ]
  },
  {
   "cell_type": "markdown",
   "metadata": {},
   "source": [
    "## Check and visualise the convergence: $\\tau_f / n_\\mathrm{steps} < 1/30$"
   ]
  },
  {
   "cell_type": "code",
   "execution_count": null,
   "metadata": {},
   "outputs": [],
   "source": [
    "Nmin = 0\n",
    "while Nmin < nsteps and np.all(LCDM_sampler.get_autocorr_time(tol=0,discard=Nmin)/(nsteps)*30 > 1):\n",
    "    Nmin+=100\n",
    "    \n",
    "print('Nmin = {}'.format(Nmin))"
   ]
  },
  {
   "cell_type": "code",
   "execution_count": null,
   "metadata": {},
   "outputs": [],
   "source": [
    "LCDM_samples = LCDM_sampler.get_chain()\n",
    "\n",
    "f, ax = plt.subplots(len(LCDM_samples.T), 1, figsize=(6,3*len(LCDM_samples.T)))\n",
    "\n",
    "for i in range(len(LCDM_samples.T)):\n",
    "    ax[i].plot(LCDM_samples.T[i].T, lw=0.5)\n",
    "    ax[i].plot([Nmin, Nmin], [min(LCDM_samples.T[i].flatten()), max(LCDM_samples.T[i].flatten())], c='k', lw=1.5)\n",
    "    ax[i].text(Nmin, min(LCDM_samples.T[i].flatten()), r'$n_\\mathrm{min}$', rotation=90, ha='right')\n",
    "    ax[i].set_ylabel(labs[i])\n",
    "    ax[i].set_xlabel('iteration')\n",
    "    \n",
    "    \n",
    "plt.tight_layout()\n",
    "# plt.savefig('plots/convergence_LCDM.png')\n",
    "plt.show()"
   ]
  },
  {
   "cell_type": "markdown",
   "metadata": {},
   "source": [
    "## Plot the 1$\\sigma$ and 2$\\sigma$ contours"
   ]
  },
  {
   "cell_type": "code",
   "execution_count": null,
   "metadata": {},
   "outputs": [],
   "source": [
    "LCDM_samples = LCDM_sampler.get_chain()[Nmin:, :, :].reshape((-1, ndim))\n",
    "\n",
    "\n",
    "meanLCDM = np.mean(LCDM_samples, axis=0)\n",
    "stdLCDM = np.var(LCDM_samples, axis=0)\n",
    "maxLCDM=[]\n",
    "for i in range(len(meanLCDM)):\n",
    "    likelihood = np.histogram(LCDM_samples.T[i], bins=50)\n",
    "    i_max=np.argmax(likelihood[0])\n",
    "    max_val = (likelihood[1][i_max]+likelihood[1][i_max+1])/2\n",
    "    maxLCDM.append(max_val)\n",
    "\n",
    "\n",
    "fig = corner(LCDM_samples, quantiles=(.16,.84),  levels=(1-np.exp(-0.5),1-np.exp(-0.5*4)),\n",
    "             labels=labs, smooth=True, smooth1d=True, bins=25, plot_datapoints=False, fill_contours=True, contourf_kwargs=dict(colors=None, cmap='Greens'))#,\n",
    "# #              truths=maxLCDM)\n",
    "\n",
    "plt.tight_layout()\n",
    "# plt.savefig('plots/posterior_LCDM.pdf')"
   ]
  },
  {
   "cell_type": "markdown",
   "metadata": {},
   "source": [
    "## Visualize the results"
   ]
  },
  {
   "cell_type": "code",
   "execution_count": null,
   "metadata": {},
   "outputs": [],
   "source": [
    "v = np.percentile(LCDM_samples,[16, 50, 84], axis = 0)\n",
    "v = np.asarray([v[1], v[2]-v[1],v[1]-v[0]]).T\n",
    "\n",
    "omegam, stdmp, stdmm = v[0]\n",
    "omegac, stdcp, stdcm = v[1]\n",
    "\n",
    "#model\n",
    "z = SNdata.get_data().T[0]\n",
    "best_fit_cosmo_LCDM = cosmology(*maxLCDM[:2])\n",
    "SNdata.set_param(v.T[0][2:6])\n",
    "Qdata.set_param(v.T[0][6:])"
   ]
  },
  {
   "cell_type": "code",
   "execution_count": null,
   "metadata": {},
   "outputs": [],
   "source": [
    "fig = plt.figure(figsize=(8,8))\n",
    "gs = gridspec.GridSpec(3, 1)\n",
    "gs.update(hspace=0)\n",
    "\n",
    "\n",
    "ax1 = plt.subplot(gs[0:2, 0])\n",
    "ax1.set_title('$\\Omega_m = {%1.2f}^{+%1.2f}_{-%1.2f},\\, \\Omega_\\Lambda = {%1.2f}^{+%1.2f}_{-%1.2f}$' % (omegam, stdmp,stdmm, omegac, stdcp,stdcm))#, stdkm, stdkp))\n",
    "\n",
    "ax1.errorbar(Qdata.distance_modulus().T[0], Qdata.distance_modulus().T[1], yerr=Qdata.delta_distance_modulus(), linestyle='none', marker='o', color='orange', ecolor='yellow', markersize=3, alpha=0.6, zorder=-1, label=r'quasars')\n",
    "ax1.errorbar(SNdata.distance_modulus().T[0], SNdata.distance_modulus().T[1], yerr=np.diag(SNdata.delta_distance_modulus()), linestyle='none', marker='o', color='cyan', ecolor='blue', markersize=3, alpha=0.6, zorder=-1, label=r'SNe')\n",
    "\n",
    "\n",
    "\n",
    "\n",
    "zPlot = np.logspace(-3,np.log10(6),100)\n",
    "ax1.plot(zPlot, best_fit_cosmo_LCDM.distance_modulus(zPlot), c='k', label=r'fit')\n",
    "ax1.fill_between(zPlot, cosmology(omegam+stdmp,omegac+stdcp).distance_modulus(zPlot), cosmology(omegam-stdmm,omegac-stdcm).distance_modulus(zPlot), color='gray', alpha=0.3)\n",
    "ax1.plot(zPlot, cosmology(Omega_m, Omega_c).distance_modulus(zPlot), ls = '--', c='gray', label=r'$\\Lambda$CDM')\n",
    "\n",
    "ax1.set_xlim(0.01,6)\n",
    "ax1.set_ylim(32,55)\n",
    "\n",
    "\n",
    "ax1.set_ylabel(r'distance modulus $\\mu$')\n",
    "ax1.set_xticklabels([])\n",
    "\n",
    "ax1.grid('--', dashes=(5,5))\n",
    "ax1.legend()\n",
    "\n",
    "\n",
    "ax2 = plt.subplot(gs[2, 0])\n",
    "\n",
    "ax2.plot(zPlot, best_fit_cosmo_LCDM.distance_modulus(zPlot) - cosmology(Omega_m, Omega_c).distance_modulus(zPlot), 'k')\n",
    "\n",
    "# ax2.set_xscale('log')\n",
    "ax2.set_xlim(0.01,6)\n",
    "\n",
    "ax2.text(0.97, .94, r'$\\mathrm{BIC}(\\Lambda\\mathrm{CDM}) = %1.0f$' % (np.log(len(SNdata.get_data()) + len(Qdata.get_data()))*ndim-2*lnlike(maxLCDM,SNdata,Qdata)), ha='right', va='top', transform=ax2.transAxes, bbox=dict(facecolor=(1,1,1,.8), edgecolor='lightgray', boxstyle='round'))\n",
    "\n",
    "\n",
    "ax2.grid('--', dashes=(5,5))\n",
    "ax2.set_xlabel(r'$z$')\n",
    "ax2.set_ylabel(r'$\\mu_\\mathrm{fit} - \\mu_{\\Lambda\\mathrm{CDM}}$')\n",
    "\n",
    "plt.tight_layout()\n",
    "# plt.savefig('plots/Hubble_LCDM.pdf')\n",
    "plt.show()"
   ]
  },
  {
   "cell_type": "markdown",
   "metadata": {},
   "source": [
    "# Load $w\\Lambda$LCDM data"
   ]
  },
  {
   "cell_type": "code",
   "execution_count": null,
   "metadata": {},
   "outputs": [],
   "source": [
    "wLCDM_sampler = HDFBackend('results/wLCDM_500x1000.h5', read_only=True)\n",
    "\n",
    "nsteps, nwalkers, ndim = wLCDM_sampler.get_chain().shape\n",
    "labs = [r'$\\Omega_m$', r'$\\Omega_\\Lambda$', r'$w$', r'$\\alpha$', r'$\\beta$', r'$M_B$', r'$\\Delta M_B$', r'$\\beta^\\prime$', r'$\\delta$']"
   ]
  },
  {
   "cell_type": "markdown",
   "metadata": {},
   "source": [
    "## Check and visualise the convergence: $\\tau_f / n_\\mathrm{steps} < 1/30$"
   ]
  },
  {
   "cell_type": "code",
   "execution_count": null,
   "metadata": {},
   "outputs": [],
   "source": [
    "Nmin = 0\n",
    "while Nmin < nsteps and np.all(wLCDM_sampler.get_autocorr_time(tol=0,discard=Nmin)/(nsteps)*30 > 1):\n",
    "    Nmin+=100\n",
    "    \n",
    "print('Nmin = {}'.format(Nmin))"
   ]
  },
  {
   "cell_type": "code",
   "execution_count": null,
   "metadata": {},
   "outputs": [],
   "source": [
    "wLCDM_samples = wLCDM_sampler.get_chain()\n",
    "\n",
    "f, ax = plt.subplots(len(wLCDM_samples.T), 1, figsize=(6,3*len(wLCDM_samples.T)))\n",
    "\n",
    "for i in range(len(wLCDM_samples.T)):\n",
    "    ax[i].plot(wLCDM_samples.T[i].T, lw=0.5)\n",
    "    ax[i].plot([Nmin, Nmin], [min(wLCDM_samples.T[i].flatten()), max(wLCDM_samples.T[i].flatten())], c='k', lw=1.5)\n",
    "    ax[i].text(Nmin, min(wLCDM_samples.T[i].flatten()), r'$n_\\mathrm{min}$', rotation=90, ha='right')\n",
    "    ax[i].set_ylabel(labs[i])\n",
    "    ax[i].set_xlabel('iteration')\n",
    "    \n",
    "    \n",
    "plt.tight_layout()\n",
    "# plt.savefig('plots/convergence_wLCDM.png')\n",
    "plt.show()"
   ]
  },
  {
   "cell_type": "markdown",
   "metadata": {},
   "source": [
    "## Plot the 1$\\sigma$ and 2$\\sigma$ contours"
   ]
  },
  {
   "cell_type": "code",
   "execution_count": null,
   "metadata": {},
   "outputs": [],
   "source": [
    "wLCDM_samples = wLCDM_sampler.get_chain()[Nmin:, :, :].reshape((-1, ndim))\n",
    "\n",
    "\n",
    "meanwLCDM = np.mean(wLCDM_samples, axis=0)\n",
    "stdwLCDM = np.var(wLCDM_samples, axis=0)\n",
    "maxwLCDM=[]\n",
    "for i in range(len(meanwLCDM)):\n",
    "    likelihood = np.histogram(wLCDM_samples.T[i], bins=50)\n",
    "    i_max=np.argmax(likelihood[0])\n",
    "    max_val = (likelihood[1][i_max]+likelihood[1][i_max+1])/2\n",
    "    maxwLCDM.append(max_val)\n",
    "\n",
    "\n",
    "fig = corner(wLCDM_samples[:,:3], quantiles=(.16,.84),  levels=(1-np.exp(-0.5),1-np.exp(-0.5*4)), range=[(0,.5), (.25,1.5), (-2.,-.3)],\n",
    "             labels=labs, smooth=True, smooth1d=True, bins=25, plot_datapoints=False, fill_contours=True, contourf_kwargs=dict(colors=None, cmap='Greens'),\n",
    "             truths=maxwLCDM[:3])\n",
    "\n",
    "plt.tight_layout()\n",
    "# plt.savefig('plots/posterior_wLCDM_1.pdf')"
   ]
  },
  {
   "cell_type": "code",
   "execution_count": null,
   "metadata": {},
   "outputs": [],
   "source": [
    "fig = corner(wLCDM_samples[:,3:], quantiles=(.16,.84),  levels=(1-np.exp(-0.5),1-np.exp(-0.5*4)),\n",
    "             labels=labs[3:], smooth=True, smooth1d=True, bins=25, plot_datapoints=False, fill_contours=True, contourf_kwargs=dict(colors=None, cmap='Greens'))#,\n",
    "#              truths=maxwLCDM[3:], truth_color='y')\n",
    "\n",
    "plt.tight_layout()\n",
    "# plt.savefig('plots/posterior_wLCDM_2.pdf')"
   ]
  },
  {
   "cell_type": "markdown",
   "metadata": {},
   "source": [
    "## Visualize the results"
   ]
  },
  {
   "cell_type": "code",
   "execution_count": null,
   "metadata": {},
   "outputs": [],
   "source": [
    "v = np.percentile(wLCDM_samples,[16, 50, 84], axis = 0)\n",
    "v = np.asarray([v[1], v[2]-v[1],v[1]-v[0]]).T\n",
    "\n",
    "omegam, stdmp, stdmm = v[0]\n",
    "omegac, stdcp, stdcm = v[1]\n",
    "w, wp, wm = v[2]\n",
    "\n",
    "#model\n",
    "z = SNdata.get_data().T[0]\n",
    "best_fit_cosmo = cosmology(*maxwLCDM[:3])\n",
    "SNdata.set_param(v.T[0][3:7])\n",
    "Qdata.set_param(v.T[0][7:])"
   ]
  },
  {
   "cell_type": "code",
   "execution_count": null,
   "metadata": {},
   "outputs": [],
   "source": [
    "fig = plt.figure(figsize=(8,8))\n",
    "gs = gridspec.GridSpec(3, 1)\n",
    "gs.update(hspace=0)\n",
    "\n",
    "\n",
    "ax1 = plt.subplot(gs[0:2, 0])\n",
    "ax1.set_title('$\\Omega_m = {%1.2f}^{+%1.2f}_{-%1.2f},\\, \\Omega_\\Lambda = {%1.2f}^{+%1.2f}_{-%1.2f},\\, w = {%1.2f}^{+%1.2f}_{-%1.2f}$' % (omegam, stdmp,stdmm, omegac, stdcp,stdcm, w, wp, wm))#, stdkm, stdkp))\n",
    "\n",
    "ax1.errorbar(Qdata.distance_modulus().T[0], Qdata.distance_modulus().T[1], yerr=Qdata.delta_distance_modulus(), linestyle='none', marker='o', color='orange', ecolor='yellow', markersize=3, alpha=0.6, zorder=-1, label=r'quasars')\n",
    "ax1.errorbar(SNdata.distance_modulus().T[0], SNdata.distance_modulus().T[1], yerr=np.diag(SNdata.delta_distance_modulus()), linestyle='none', marker='o', color='cyan', ecolor='blue', markersize=3, alpha=0.6, zorder=-1, label=r'SNe')\n",
    "\n",
    "\n",
    "\n",
    "\n",
    "zPlot = np.logspace(-3,np.log10(6),100)\n",
    "ax1.plot(zPlot, best_fit_cosmo.distance_modulus(zPlot), c='k', label=r'fit')\n",
    "ax1.fill_between(zPlot, cosmology(omegam+stdmp,omegac+stdcp, w + wp).distance_modulus(zPlot), cosmology(omegam-stdmm,omegac-stdcm, w - wm).distance_modulus(zPlot), color='gray', alpha=0.3)\n",
    "ax1.plot(zPlot, cosmology(Omega_m, Omega_c).distance_modulus(zPlot), ls = '--', c='gray', label=r'$\\Lambda$CDM')\n",
    "\n",
    "ax1.set_xlim(0.01,6)\n",
    "ax1.set_ylim(32,55)\n",
    "\n",
    "\n",
    "ax1.set_ylabel(r'distance modulus $\\mu$')\n",
    "ax1.set_xticklabels([])\n",
    "\n",
    "ax1.grid('--', dashes=(5,5))\n",
    "ax1.legend()\n",
    "\n",
    "\n",
    "ax2 = plt.subplot(gs[2, 0])\n",
    "\n",
    "ax2.plot(zPlot, best_fit_cosmo.distance_modulus(zPlot) - cosmology(Omega_m, Omega_c).distance_modulus(zPlot), 'k')\n",
    "\n",
    "# ax2.set_xscale('log')\n",
    "ax2.set_xlim(0.01,6)\n",
    "\n",
    "ax2.text(0.97, .94, r'$\\mathrm{BIC}(w\\Lambda\\mathrm{CDM}) = %1.0f$' % (np.log(len(SNdata.get_data()) + len(Qdata.get_data()))*ndim-2*lnlike(maxwLCDM,SNdata,Qdata)), ha='right', va='top', transform=ax2.transAxes, bbox=dict(facecolor=(1,1,1,.8), edgecolor='lightgray', boxstyle='round'))\n",
    "\n",
    "\n",
    "ax2.grid('--', dashes=(5,5))\n",
    "ax2.set_xlabel(r'$z$')\n",
    "ax2.set_ylabel(r'$\\mu_\\mathrm{fit} - \\mu_{\\Lambda\\mathrm{CDM}}$')\n",
    "\n",
    "plt.tight_layout()\n",
    "# plt.savefig('plots/Hubble_wLCDM.pdf')\n",
    "plt.show()"
   ]
  },
  {
   "cell_type": "markdown",
   "metadata": {},
   "source": [
    "# Conformal Gravity"
   ]
  },
  {
   "cell_type": "markdown",
   "metadata": {},
   "source": [
    "## Rotation curve data"
   ]
  },
  {
   "cell_type": "code",
   "execution_count": null,
   "metadata": {},
   "outputs": [],
   "source": [
    "log10gamma0, log10kappa0 = -6, -4\n",
    "RC_data = RCdata([10**log10gamma0, 10**log10kappa0])"
   ]
  },
  {
   "cell_type": "code",
   "execution_count": null,
   "metadata": {},
   "outputs": [],
   "source": [
    "#likelihood function\n",
    "def lnlikeCG(theta, SNdata, Qdata, RCdata):\n",
    "    Omegam, gamma0, kappa, a, b, MB, delta_Mhost, beta_prime, s = theta\n",
    "    \n",
    "    Omegak =  (gamma0)**2 / 2 *cosmology.cLight**2/(cosmology.H0/1E-3)**2\n",
    "    Omegac = 1-Omegam-Omegak\n",
    "    \n",
    "    LCDM = cosmology(Omegam, Omegac)\n",
    "    SNdata.set_param(np.array([a,b,MB, delta_Mhost]))\n",
    "    Qdata.set_param(np.array([beta_prime, s]))\n",
    "    \n",
    "    log_prob = LCDM.log_likelihood(SNdata.distance_modulus(), SNdata.delta_distance_modulus())\n",
    "    log_prob += LCDM.log_likelihood(Qdata.distance_modulus(), Qdata.delta_distance_modulus())\n",
    "    \n",
    "    if np.isnan(log_prob):\n",
    "        return -np.inf\n",
    "\n",
    "    RCdata.set_param([gamma0, kappa])\n",
    "    RCdata.fit()\n",
    "    log_prob += RCdata.get_loglike()\n",
    "\n",
    "\n",
    "    return log_prob\n",
    "\n",
    "\n",
    "def lnpriorCG(theta):\n",
    "    Omegam, gamma0, kappa, a, b, MB, delta_Mhost, beta_prime, s = theta\n",
    "    \n",
    "    Omegak =  (gamma0)**2 / 2 *cosmology.cLight**2/(cosmology.H0/1E-3)**2\n",
    "    Omegac = 1-Omegam-Omegak\n",
    "\n",
    "    if -.1 < Omegam < 0 and 0 < Omegak < 1.0 and gamma0 > 0 and 0 < kappa < 1000 and -5 <= a < 5 and -10 < b < 10 and -50 < MB < 0 and -0.5 < delta_Mhost < 0.5 and 0 < s <= 3:\n",
    "        return 0.0\n",
    "    return -np.inf\n",
    "\n",
    "def lnprobCG(theta, SNdata, Qdata, RCdata):\n",
    "    lp = lnpriorCG(theta)\n",
    "    if not np.isfinite(lp):\n",
    "        return -np.inf\n",
    "    return lp + lnlikeCG(theta, SNdata, Qdata, RCdata)\n"
   ]
  },
  {
   "cell_type": "markdown",
   "metadata": {},
   "source": [
    "## Load Conformal Gravity data"
   ]
  },
  {
   "cell_type": "code",
   "execution_count": null,
   "metadata": {},
   "outputs": [],
   "source": [
    "CG_sampler = HDFBackend('results/CG_nonlog_500x1000.h5', read_only=True)\n",
    "\n",
    "nsteps, nwalkers, ndim = CG_sampler.get_chain().shape\n",
    "labs=[r'$\\Omega_m$', r'$(\\gamma_0/\\mathrm{Gpc}^{-1})$', r'$(\\kappa/\\mathrm{Gpc}^{-2})$',r'$\\alpha$', r'$\\beta$', r'$M_B$', r'$\\Delta M_B$', r'$\\beta^\\prime$', r'$\\delta$']"
   ]
  },
  {
   "cell_type": "code",
   "execution_count": null,
   "metadata": {},
   "outputs": [],
   "source": [
    "Nmin = 0\n",
    "while Nmin < nsteps and np.all(CG_sampler.get_autocorr_time(tol=0,discard=Nmin)/(nsteps)*50 > 1):\n",
    "    Nmin+=100\n",
    "    \n",
    "print('Nmin = {}'.format(Nmin))"
   ]
  },
  {
   "cell_type": "code",
   "execution_count": null,
   "metadata": {},
   "outputs": [],
   "source": [
    "CG_samples = CG_sampler.get_chain()\n",
    "\n",
    "f, ax = plt.subplots(len(CG_samples.T), 1, figsize=(6,3*len(CG_samples.T)))\n",
    "\n",
    "for i in range(len(CG_samples.T)):\n",
    "    ax[i].plot(CG_samples.T[i].T, lw=0.5)\n",
    "    ax[i].plot([Nmin, Nmin], [min(CG_samples.T[i].flatten()), max(CG_samples.T[i].flatten())], c='k', lw=1.5)\n",
    "    ax[i].text(Nmin, min(CG_samples.T[i].flatten()), r'$n_\\mathrm{min}$', rotation=90, ha='right')\n",
    "    ax[i].set_ylabel(labs[i])\n",
    "    ax[i].set_xlabel('iteration')\n",
    "    \n",
    "    \n",
    "plt.tight_layout()\n",
    "# plt.savefig('plots/convergence_CG.png')\n",
    "plt.show()"
   ]
  },
  {
   "cell_type": "code",
   "execution_count": null,
   "metadata": {},
   "outputs": [],
   "source": [
    "CG_samples = CG_sampler.get_chain()[Nmin:, :, :].reshape((-1, ndim))\n",
    "\n",
    "#plot Omega_k instead of gamma0\n",
    "CG_samples[:,1] = CG_samples[:,1]**2 / 2 *cosmology.cLight**2/(cosmology.H0/1E-3)**2\n",
    "labs[1] = r'$\\Omega_k$'\n",
    "\n",
    "\n",
    "meanCG = np.mean(CG_samples, axis=0)\n",
    "stdCG = np.var(CG_samples, axis=0)\n",
    "maxCG=[]\n",
    "for i in range(len(meanCG)):\n",
    "    likelihood = np.histogram(CG_samples.T[i], bins=50)\n",
    "    i_max=np.argmax(likelihood[0])\n",
    "    max_val = (likelihood[1][i_max]+likelihood[1][i_max+1])/2\n",
    "    maxCG.append(max_val)\n",
    "\n",
    "fig = corner(CG_samples, quantiles=(.16,.84),  levels=(1-np.exp(-0.5),1-np.exp(-0.5*4)),# range=[(-.005, 0), (.0222,.0226), (71,73)],\n",
    "             labels=labs, smooth=True, smooth1d=True, bins=25, plot_datapoints=False, fill_contours=True, contourf_kwargs=dict(colors=None, cmap='Greens'),\n",
    "             truths=maxCG)\n",
    "\n",
    "plt.tight_layout()\n",
    "# plt.savefig('plots/posterior_CG.pdf')"
   ]
  },
  {
   "cell_type": "markdown",
   "metadata": {},
   "source": [
    "## Visualize the results"
   ]
  },
  {
   "cell_type": "code",
   "execution_count": null,
   "metadata": {},
   "outputs": [],
   "source": [
    "v = np.percentile(CG_samples,[16, 50, 84], axis = 0)\n",
    "v = np.asarray([v[1], v[2]-v[1],v[1]-v[0]]).T\n",
    "\n",
    "omegam, stdmp, stdmm = v[0]\n",
    "omegak, stdkp, stdkm  = v[1]\n",
    "\n",
    "#model\n",
    "z = SNdata.get_data().T[0]\n",
    "best_fit_cosmo = cosmology(omegam, 1- omegam - omegak)\n",
    "SNdata.set_param(maxCG[3:7])\n",
    "Qdata.set_param(maxCG[7:])\n",
    "RC_data.set_param(maxCG[1:3])"
   ]
  },
  {
   "cell_type": "code",
   "execution_count": null,
   "metadata": {},
   "outputs": [],
   "source": [
    "fig = plt.figure(figsize=(8,8))\n",
    "gs = gridspec.GridSpec(3, 1)\n",
    "gs.update(hspace=0)\n",
    "\n",
    "\n",
    "ax1 = plt.subplot(gs[0:2, 0])\n",
    "ax1.set_title(r'$\\Omega_m = ({%1.2f}^{+%1.2f}_{-%1.2f})\\cdot 10^{-3},\\, \\Omega_k = ({%1.2f}^{+%1.2f}_{-%1.2f})\\cdot 10^{-4},\\, \\kappa = {%1.1f}^{+%1.1f}_{-%1.1f}\\, \\mathrm{Gpc}^{-2}$' % (1E3*omegam, 1E3*stdmp,1E3*stdmm, 1E4*omegak, 1E4*stdkp,1E4*stdkm, *v[2]), fontsize=16)#, stdkm, stdkp))\n",
    "\n",
    "ax1.errorbar(Qdata.distance_modulus().T[0], Qdata.distance_modulus().T[1], yerr=Qdata.delta_distance_modulus(), linestyle='none', marker='o', color='orange', ecolor='yellow', markersize=3, alpha=0.6, zorder=-1, label=r'quasars')\n",
    "ax1.errorbar(SNdata.distance_modulus().T[0], SNdata.distance_modulus().T[1], yerr=np.diag(SNdata.delta_distance_modulus()), linestyle='none', marker='o', color='cyan', ecolor='blue', markersize=3, alpha=0.6, zorder=-1, label=r'SNe')\n",
    "\n",
    "\n",
    "\n",
    "\n",
    "zPlot = np.logspace(-3,np.log10(6),100)\n",
    "ax1.plot(zPlot, best_fit_cosmo.distance_modulus(zPlot), c='k', label=r'fit')\n",
    "ax1.fill_between(zPlot, cosmology(omegam+stdmp,1- (omegam - stdmm) - (omegak-stdkm)).distance_modulus(zPlot), cosmology(omegam-stdmm,1- (omegam + stdmp) - (omegak+stdkp)).distance_modulus(zPlot), color='gray', alpha=0.3)\n",
    "ax1.plot(zPlot, cosmology(Omega_m, Omega_c).distance_modulus(zPlot), ls = '--', c='gray', label=r'$\\Lambda$CDM')\n",
    "\n",
    "# ax1.set_xlim(0.01,6)\n",
    "# ax1.set_ylim(32,55)\n",
    "\n",
    "\n",
    "ax1.set_ylabel(r'distance modulus $\\mu$')\n",
    "ax1.set_xticklabels([])\n",
    "\n",
    "ax1.grid('--', dashes=(5,5))\n",
    "ax1.legend()\n",
    "\n",
    "\n",
    "ax2 = plt.subplot(gs[2, 0])\n",
    "\n",
    "ax2.plot(zPlot, best_fit_cosmo.distance_modulus(zPlot) - cosmology(Omega_m, Omega_c).distance_modulus(zPlot), 'k')\n",
    "\n",
    "# ax2.set_xscale('log')\n",
    "ax2.set_xlim(0.01,6)\n",
    "\n",
    "ax2.text(0.04, .94, r'$\\mathrm{BIC}(\\mathrm{CG}) = %1.0f$' % (np.log(len(SNdata.get_data()) + len(Qdata.get_data()))*ndim-2*(lnlikeCG(maxCG,SNdata,Qdata,RC_data) - RC_data.get_loglike())), ha='left', va='top', transform=ax2.transAxes, bbox=dict(facecolor=(1,1,1,.8), edgecolor='lightgray', boxstyle='round'))\n",
    "\n",
    "\n",
    "ax2.grid('--', dashes=(5,5))\n",
    "ax2.set_xlabel(r'$z$')\n",
    "ax2.set_ylabel(r'$\\mu_\\mathrm{fit} - \\mu_{\\Lambda\\mathrm{CDM}}$')\n",
    "\n",
    "plt.tight_layout()\n",
    "# plt.savefig('plots/Hubble_CG.pdf')\n",
    "plt.show()"
   ]
  }
 ],
 "metadata": {
  "kernelspec": {
   "display_name": "Python [conda env:emcee3]",
   "language": "python",
   "name": "conda-env-emcee3-py"
  },
  "language_info": {
   "codemirror_mode": {
    "name": "ipython",
    "version": 3
   },
   "file_extension": ".py",
   "mimetype": "text/x-python",
   "name": "python",
   "nbconvert_exporter": "python",
   "pygments_lexer": "ipython3"
  }
 },
 "nbformat": 4,
 "nbformat_minor": 2
}
